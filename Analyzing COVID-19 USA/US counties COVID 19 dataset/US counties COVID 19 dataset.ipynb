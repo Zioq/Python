{
 "cells": [
  {
   "cell_type": "markdown",
   "metadata": {},
   "source": [
    "# US counties COVID 19 dataset Analysis wtih Pandas"
   ]
  },
  {
   "cell_type": "code",
   "execution_count": 3,
   "metadata": {},
   "outputs": [],
   "source": [
    "#import pandas\n",
    "import pandas as pd"
   ]
  },
  {
   "cell_type": "code",
   "execution_count": 5,
   "metadata": {},
   "outputs": [],
   "source": [
    "# import data\n",
    "df = pd.read_csv('us-counties.csv')"
   ]
  },
  {
   "cell_type": "code",
   "execution_count": 7,
   "metadata": {},
   "outputs": [
    {
     "data": {
      "text/html": [
       "<div>\n",
       "<style scoped>\n",
       "    .dataframe tbody tr th:only-of-type {\n",
       "        vertical-align: middle;\n",
       "    }\n",
       "\n",
       "    .dataframe tbody tr th {\n",
       "        vertical-align: top;\n",
       "    }\n",
       "\n",
       "    .dataframe thead th {\n",
       "        text-align: right;\n",
       "    }\n",
       "</style>\n",
       "<table border=\"1\" class=\"dataframe\">\n",
       "  <thead>\n",
       "    <tr style=\"text-align: right;\">\n",
       "      <th></th>\n",
       "      <th>date</th>\n",
       "      <th>county</th>\n",
       "      <th>state</th>\n",
       "      <th>fips</th>\n",
       "      <th>cases</th>\n",
       "      <th>deaths</th>\n",
       "    </tr>\n",
       "  </thead>\n",
       "  <tbody>\n",
       "    <tr>\n",
       "      <td>0</td>\n",
       "      <td>2020-01-21</td>\n",
       "      <td>Snohomish</td>\n",
       "      <td>Washington</td>\n",
       "      <td>53061.0</td>\n",
       "      <td>1</td>\n",
       "      <td>0</td>\n",
       "    </tr>\n",
       "    <tr>\n",
       "      <td>1</td>\n",
       "      <td>2020-01-22</td>\n",
       "      <td>Snohomish</td>\n",
       "      <td>Washington</td>\n",
       "      <td>53061.0</td>\n",
       "      <td>1</td>\n",
       "      <td>0</td>\n",
       "    </tr>\n",
       "    <tr>\n",
       "      <td>2</td>\n",
       "      <td>2020-01-23</td>\n",
       "      <td>Snohomish</td>\n",
       "      <td>Washington</td>\n",
       "      <td>53061.0</td>\n",
       "      <td>1</td>\n",
       "      <td>0</td>\n",
       "    </tr>\n",
       "    <tr>\n",
       "      <td>3</td>\n",
       "      <td>2020-01-24</td>\n",
       "      <td>Cook</td>\n",
       "      <td>Illinois</td>\n",
       "      <td>17031.0</td>\n",
       "      <td>1</td>\n",
       "      <td>0</td>\n",
       "    </tr>\n",
       "    <tr>\n",
       "      <td>4</td>\n",
       "      <td>2020-01-24</td>\n",
       "      <td>Snohomish</td>\n",
       "      <td>Washington</td>\n",
       "      <td>53061.0</td>\n",
       "      <td>1</td>\n",
       "      <td>0</td>\n",
       "    </tr>\n",
       "  </tbody>\n",
       "</table>\n",
       "</div>"
      ],
      "text/plain": [
       "         date     county       state     fips  cases  deaths\n",
       "0  2020-01-21  Snohomish  Washington  53061.0      1       0\n",
       "1  2020-01-22  Snohomish  Washington  53061.0      1       0\n",
       "2  2020-01-23  Snohomish  Washington  53061.0      1       0\n",
       "3  2020-01-24       Cook    Illinois  17031.0      1       0\n",
       "4  2020-01-24  Snohomish  Washington  53061.0      1       0"
      ]
     },
     "execution_count": 7,
     "metadata": {},
     "output_type": "execute_result"
    }
   ],
   "source": [
    "df.head()"
   ]
  },
  {
   "cell_type": "code",
   "execution_count": 43,
   "metadata": {},
   "outputs": [
    {
     "data": {
      "text/plain": [
       "182670"
      ]
     },
     "execution_count": 43,
     "metadata": {},
     "output_type": "execute_result"
    }
   ],
   "source": [
    "len(df)"
   ]
  },
  {
   "cell_type": "code",
   "execution_count": 32,
   "metadata": {},
   "outputs": [
    {
     "name": "stdout",
     "output_type": "stream",
     "text": [
      "55\n"
     ]
    }
   ],
   "source": [
    "# Get the number of state where the COVID-19 affected. \n",
    "num_state = df.state.nunique()\n",
    "print(num_state)"
   ]
  },
  {
   "cell_type": "code",
   "execution_count": 41,
   "metadata": {},
   "outputs": [],
   "source": [
    "# Number of the casese per the State\n",
    "num_case_state = df.groupby('state').cases.sum().reset_index()"
   ]
  },
  {
   "cell_type": "code",
   "execution_count": 42,
   "metadata": {},
   "outputs": [
    {
     "name": "stdout",
     "output_type": "stream",
     "text": [
      "                       state     cases\n",
      "0                    Alabama    434582\n",
      "1                     Alaska     19562\n",
      "2                    Arizona    477224\n",
      "3                   Arkansas    180568\n",
      "4                 California   2963244\n",
      "5                   Colorado    840148\n",
      "6                Connecticut   1438471\n",
      "7                   Delaware    261454\n",
      "8       District of Columbia    254431\n",
      "9                    Florida   1883445\n",
      "10                   Georgia   1408510\n",
      "11                      Guam     51754\n",
      "12                    Hawaii     33334\n",
      "13                     Idaho    112147\n",
      "14                  Illinois   3184464\n",
      "15                   Indiana   1019030\n",
      "16                      Iowa    451062\n",
      "17                    Kansas    259999\n",
      "18                  Kentucky    274092\n",
      "19                 Louisiana   1556223\n",
      "20                     Maine     67618\n",
      "21                  Maryland   1318880\n",
      "22             Massachusetts   3211137\n",
      "23                  Michigan   2188442\n",
      "24                 Minnesota    443596\n",
      "25               Mississippi    399703\n",
      "26                  Missouri    433190\n",
      "27                   Montana     25316\n",
      "28                  Nebraska    297366\n",
      "29                    Nevada    284048\n",
      "30             New Hampshire    129955\n",
      "31                New Jersey   6112503\n",
      "32                New Mexico    199243\n",
      "33                  New York  16151832\n",
      "34            North Carolina    641738\n",
      "35              North Dakota     63314\n",
      "36  Northern Mariana Islands       864\n",
      "37                      Ohio   1007760\n",
      "38                  Oklahoma    205920\n",
      "39                    Oregon    147113\n",
      "40              Pennsylvania   2539636\n",
      "41               Puerto Rico     96140\n",
      "42              Rhode Island    443621\n",
      "43            South Carolina    344396\n",
      "44              South Dakota    136245\n",
      "45                 Tennessee    646389\n",
      "46                     Texas   1726957\n",
      "47                      Utah    271736\n",
      "48                   Vermont     48284\n",
      "49            Virgin Islands      3580\n",
      "50                  Virginia    984116\n",
      "51                Washington    868307\n",
      "52             West Virginia     61763\n",
      "53                 Wisconsin    442036\n",
      "54                   Wyoming     30938\n"
     ]
    }
   ],
   "source": [
    "print(num_case_state)"
   ]
  },
  {
   "cell_type": "code",
   "execution_count": 67,
   "metadata": {},
   "outputs": [],
   "source": [
    "# Number of the deaths per the state\n",
    "num_deaths_state = df.groupby('state').deaths.sum().reset_index()"
   ]
  },
  {
   "cell_type": "code",
   "execution_count": 69,
   "metadata": {},
   "outputs": [
    {
     "name": "stdout",
     "output_type": "stream",
     "text": [
      "                       state   deaths\n",
      "0                    Alabama    16075\n",
      "1                     Alaska      392\n",
      "2                    Arizona    21246\n",
      "3                   Arkansas     3676\n",
      "4                 California   114023\n",
      "5                   Colorado    41904\n",
      "6                Connecticut   115508\n",
      "7                   Delaware     8824\n",
      "8       District of Columbia    12147\n",
      "9                    Florida    69977\n",
      "10                   Georgia    59805\n",
      "11                      Guam      329\n",
      "12                    Hawaii      731\n",
      "13                     Idaho     3070\n",
      "14                  Illinois   136990\n",
      "15                   Indiana    59061\n",
      "16                      Iowa    10659\n",
      "17                    Kansas     7137\n",
      "18                  Kentucky    13086\n",
      "19                 Louisiana    96863\n",
      "20                     Maine     2690\n",
      "21                  Maryland    63104\n",
      "22             Massachusetts   187148\n",
      "23                  Michigan   187723\n",
      "24                 Minnesota    21658\n",
      "25               Mississippi    17004\n",
      "26                  Missouri    20036\n",
      "27                   Montana      724\n",
      "28                  Nebraska     4014\n",
      "29                    Nevada    13160\n",
      "30             New Hampshire     5154\n",
      "31                New Jersey   366607\n",
      "32                New Mexico     7841\n",
      "33                  New York  1168707\n",
      "34            North Carolina    21665\n",
      "35              North Dakota     1386\n",
      "36  Northern Mariana Islands      108\n",
      "37                      Ohio    53912\n",
      "38                  Oklahoma    11346\n",
      "39                    Oregon     5511\n",
      "40              Pennsylvania   142990\n",
      "41               Puerto Rico     4586\n",
      "42              Rhode Island    16162\n",
      "43            South Carolina    13213\n",
      "44              South Dakota     1274\n",
      "45                 Tennessee    11236\n",
      "46                     Texas    45963\n",
      "47                      Utah     2771\n",
      "48                   Vermont     2481\n",
      "49            Virgin Islands      198\n",
      "50                  Virginia    32365\n",
      "51                Washington    45652\n",
      "52             West Virginia     2170\n",
      "53                 Wisconsin    17158\n",
      "54                   Wyoming      320\n"
     ]
    }
   ],
   "source": [
    "print(num_deaths_state)"
   ]
  },
  {
   "cell_type": "code",
   "execution_count": 80,
   "metadata": {},
   "outputs": [
    {
     "name": "stdout",
     "output_type": "stream",
     "text": [
      "The Number of cases and deaths per State and rate of deaths\n",
      "\n",
      "                       state     cases   deaths      Rate\n",
      "0                    Alabama    434582    16075  0.036990\n",
      "1                     Alaska     19562      392  0.020039\n",
      "2                    Arizona    477224    21246  0.044520\n",
      "3                   Arkansas    180568     3676  0.020358\n",
      "4                 California   2963244   114023  0.038479\n",
      "5                   Colorado    840148    41904  0.049877\n",
      "6                Connecticut   1438471   115508  0.080299\n",
      "7                   Delaware    261454     8824  0.033750\n",
      "8       District of Columbia    254431    12147  0.047742\n",
      "9                    Florida   1883445    69977  0.037154\n",
      "10                   Georgia   1408510    59805  0.042460\n",
      "11                      Guam     51754      329  0.006357\n",
      "12                    Hawaii     33334      731  0.021930\n",
      "13                     Idaho    112147     3070  0.027375\n",
      "14                  Illinois   3184464   136990  0.043018\n",
      "15                   Indiana   1019030    59061  0.057958\n",
      "16                      Iowa    451062    10659  0.023631\n",
      "17                    Kansas    259999     7137  0.027450\n",
      "18                  Kentucky    274092    13086  0.047743\n",
      "19                 Louisiana   1556223    96863  0.062242\n",
      "20                     Maine     67618     2690  0.039782\n",
      "21                  Maryland   1318880    63104  0.047847\n",
      "22             Massachusetts   3211137   187148  0.058281\n",
      "23                  Michigan   2188442   187723  0.085779\n",
      "24                 Minnesota    443596    21658  0.048824\n",
      "25               Mississippi    399703    17004  0.042542\n",
      "26                  Missouri    433190    20036  0.046252\n",
      "27                   Montana     25316      724  0.028599\n",
      "28                  Nebraska    297366     4014  0.013499\n",
      "29                    Nevada    284048    13160  0.046330\n",
      "30             New Hampshire    129955     5154  0.039660\n",
      "31                New Jersey   6112503   366607  0.059977\n",
      "32                New Mexico    199243     7841  0.039354\n",
      "33                  New York  16151832  1168707  0.072358\n",
      "34            North Carolina    641738    21665  0.033760\n",
      "35              North Dakota     63314     1386  0.021891\n",
      "36  Northern Mariana Islands       864      108  0.125000\n",
      "37                      Ohio   1007760    53912  0.053497\n",
      "38                  Oklahoma    205920    11346  0.055099\n",
      "39                    Oregon    147113     5511  0.037461\n",
      "40              Pennsylvania   2539636   142990  0.056303\n",
      "41               Puerto Rico     96140     4586  0.047701\n",
      "42              Rhode Island    443621    16162  0.036432\n",
      "43            South Carolina    344396    13213  0.038366\n",
      "44              South Dakota    136245     1274  0.009351\n",
      "45                 Tennessee    646389    11236  0.017383\n",
      "46                     Texas   1726957    45963  0.026615\n",
      "47                      Utah    271736     2771  0.010197\n",
      "48                   Vermont     48284     2481  0.051383\n",
      "49            Virgin Islands      3580      198  0.055307\n",
      "50                  Virginia    984116    32365  0.032887\n",
      "51                Washington    868307    45652  0.052576\n",
      "52             West Virginia     61763     2170  0.035134\n",
      "53                 Wisconsin    442036    17158  0.038816\n",
      "54                   Wyoming     30938      320  0.010343\n"
     ]
    }
   ],
   "source": [
    "# Merge the 2 DataFrame to compare the COVID-19 cases and deaths\n",
    "case_deaths_state = pd.merge(num_case_state,num_deaths_state)\n",
    "print(\"The Number of cases and deaths per State and rate of deaths\")\n",
    "print(\"\")\n",
    "case_deaths_state['Rate'] = case_deaths_state['deaths']/case_deaths_state['cases']\n",
    "print(case_deaths_state)"
   ]
  },
  {
   "cell_type": "code",
   "execution_count": 54,
   "metadata": {},
   "outputs": [],
   "source": [
    "# Add the new column only show month\n",
    "month = lambda x: x.split('-')[-2]\n",
    "df['month'] = df.date.apply(month)"
   ]
  },
  {
   "cell_type": "code",
   "execution_count": 55,
   "metadata": {},
   "outputs": [
    {
     "name": "stdout",
     "output_type": "stream",
     "text": [
      "         date     county       state     fips  cases  deaths month\n",
      "0  2020-01-21  Snohomish  Washington  53061.0      1       0    01\n",
      "1  2020-01-22  Snohomish  Washington  53061.0      1       0    01\n",
      "2  2020-01-23  Snohomish  Washington  53061.0      1       0    01\n",
      "3  2020-01-24       Cook    Illinois  17031.0      1       0    01\n",
      "4  2020-01-24  Snohomish  Washington  53061.0      1       0    01\n"
     ]
    }
   ],
   "source": [
    "print(df.head())"
   ]
  },
  {
   "cell_type": "code",
   "execution_count": 62,
   "metadata": {},
   "outputs": [],
   "source": [
    "# Make a pivot table\n",
    "monthly_state_case = df.groupby(['state', 'month']).cases.sum().reset_index()\n",
    "monthly_state_deaths = df.groupby(['state', 'month']).deaths.sum().reset_index()"
   ]
  },
  {
   "cell_type": "code",
   "execution_count": 61,
   "metadata": {},
   "outputs": [
    {
     "name": "stdout",
     "output_type": "stream",
     "text": [
      "         state month   cases\n",
      "0      Alabama    03    6129\n",
      "1      Alabama    04  125166\n",
      "2      Alabama    05  303287\n",
      "3       Alaska    03     851\n",
      "4       Alaska    04    8231\n",
      "..         ...   ...     ...\n",
      "174  Wisconsin    04  118741\n",
      "175  Wisconsin    05  313917\n",
      "176    Wyoming    03     776\n",
      "177    Wyoming    04   10950\n",
      "178    Wyoming    05   19212\n",
      "\n",
      "[179 rows x 3 columns]\n"
     ]
    }
   ],
   "source": [
    "print(monthly_state_case)"
   ]
  },
  {
   "cell_type": "code",
   "execution_count": 82,
   "metadata": {},
   "outputs": [],
   "source": [
    "# Merge before make a pivot table\n",
    "monthly_state_case_deaths = pd.merge(monthly_state_case,monthly_state_deaths)"
   ]
  },
  {
   "cell_type": "code",
   "execution_count": 83,
   "metadata": {},
   "outputs": [
    {
     "name": "stdout",
     "output_type": "stream",
     "text": [
      "         state month   cases  deaths\n",
      "0      Alabama    03    6129      42\n",
      "1      Alabama    04  125166    4044\n",
      "2      Alabama    05  303287   11989\n",
      "3       Alaska    03     851       8\n",
      "4       Alaska    04    8231     173\n",
      "..         ...   ...     ...     ...\n",
      "174  Wisconsin    04  118741    5402\n",
      "175  Wisconsin    05  313917   11621\n",
      "176    Wyoming    03     776       0\n",
      "177    Wyoming    04   10950      82\n",
      "178    Wyoming    05   19212     238\n",
      "\n",
      "[179 rows x 4 columns]\n"
     ]
    }
   ],
   "source": [
    "print(monthly_state_case_deaths)"
   ]
  },
  {
   "cell_type": "code",
   "execution_count": 95,
   "metadata": {},
   "outputs": [],
   "source": [
    "monthly_state_case_deaths_pivot = monthly_state_case_deaths.pivot(columns = 'month',\n",
    "                                                                  index = 'state',\n",
    "                                                                  values = ['cases','deaths']).reset_index()"
   ]
  },
  {
   "cell_type": "code",
   "execution_count": 96,
   "metadata": {},
   "outputs": [
    {
     "name": "stdout",
     "output_type": "stream",
     "text": [
      "                          state cases                                         \\\n",
      "month                              01     02        03         04         05   \n",
      "0                       Alabama   NaN    NaN    6129.0   125166.0   303287.0   \n",
      "1                        Alaska   NaN    NaN     851.0     8231.0    10480.0   \n",
      "2                       Arizona   6.0   29.0    6830.0   128668.0   341691.0   \n",
      "3                      Arkansas   NaN    NaN    4423.0    53626.0   122519.0   \n",
      "4                    California  14.0  285.0   55413.0   865590.0  2041942.0   \n",
      "5                      Colorado   NaN    NaN   18633.0   264048.0   557467.0   \n",
      "6                   Connecticut   NaN    NaN   14606.0   467157.0   956708.0   \n",
      "7                      Delaware   NaN    NaN    1887.0    67480.0   192087.0   \n",
      "8          District of Columbia   NaN    NaN    2923.0    70950.0   180558.0   \n",
      "9                       Florida   NaN    NaN   35595.0   671169.0  1176681.0   \n",
      "10                      Georgia   NaN    NaN   22159.0   453517.0   932834.0   \n",
      "11                         Guam   NaN    NaN     594.0    20795.0    30365.0   \n",
      "12                       Hawaii   NaN    NaN    1474.0    14989.0    16871.0   \n",
      "13                        Idaho   NaN    NaN    2360.0    45937.0    63850.0   \n",
      "14                     Illinois  10.0   59.0   33617.0   802382.0  2348396.0   \n",
      "15                      Indiana   NaN    NaN   10086.0   290474.0   718470.0   \n",
      "16                         Iowa   NaN    NaN    2794.0    83729.0   364539.0   \n",
      "17                       Kansas   NaN    NaN    2408.0    55555.0   202036.0   \n",
      "18                     Kentucky   NaN    NaN    3437.0    74974.0   195681.0   \n",
      "19                    Louisiana   NaN    NaN   28926.0   625160.0   902137.0   \n",
      "20                        Maine   NaN    NaN    2126.0    22360.0    43132.0   \n",
      "21                     Maryland   NaN    NaN    8831.0   327468.0   982581.0   \n",
      "22                Massachusetts   NaN   29.0   34418.0   977778.0  2198912.0   \n",
      "23                     Michigan   NaN    NaN   39194.0   817300.0  1331948.0   \n",
      "24                    Minnesota   NaN    NaN    4484.0    65257.0   373855.0   \n",
      "25                  Mississippi   NaN    NaN    5798.0   109725.0   284180.0   \n",
      "26                     Missouri   NaN    NaN    6585.0   144284.0   282321.0   \n",
      "27                      Montana   NaN    NaN    1200.0    11538.0    12578.0   \n",
      "28                     Nebraska   NaN  151.0    1686.0    44883.0   250646.0   \n",
      "29                       Nevada   NaN    NaN    6928.0    97692.0   179428.0   \n",
      "30                New Hampshire   NaN    NaN    2232.0    36791.0    90932.0   \n",
      "31                   New Jersey   NaN    NaN   92534.0  2186172.0  3833797.0   \n",
      "32                   New Mexico   NaN    NaN    1989.0    49432.0   147822.0   \n",
      "33                     New York   NaN    NaN  464981.0  6331101.0  9355750.0   \n",
      "34               North Carolina   NaN    NaN    8617.0   168317.0   464804.0   \n",
      "35                 North Dakota   NaN    NaN     787.0    14828.0    47699.0   \n",
      "36     Northern Mariana Islands   NaN    NaN       8.0      355.0      501.0   \n",
      "37                         Ohio   NaN    NaN   12115.0   287164.0   708481.0   \n",
      "38                     Oklahoma   NaN    NaN    3069.0    67883.0   134968.0   \n",
      "39                       Oregon   NaN    2.0    4621.0    50484.0    92006.0   \n",
      "40                 Pennsylvania   NaN    NaN   23859.0   822679.0  1693098.0   \n",
      "41                  Puerto Rico   NaN    NaN     995.0    28004.0    67141.0   \n",
      "42                 Rhode Island   NaN    NaN    2773.0   118462.0   322386.0   \n",
      "43               South Carolina   NaN    NaN    6329.0   113247.0   224820.0   \n",
      "44                 South Dakota   NaN    NaN     711.0    36231.0    99303.0   \n",
      "45                    Tennessee   NaN    NaN   12319.0   187336.0   446734.0   \n",
      "46                        Texas   NaN   91.0   20623.0   494349.0  1211894.0   \n",
      "47                         Utah   NaN    5.0    5552.0    82310.0   183869.0   \n",
      "48                      Vermont   NaN    NaN    1991.0    21171.0    25122.0   \n",
      "49               Virgin Islands   NaN    NaN     230.0     1509.0     1841.0   \n",
      "50                     Virginia   NaN    NaN    6941.0   223916.0   753259.0   \n",
      "51                   Washington  11.0   60.0   45132.0   324068.0   499036.0   \n",
      "52                West Virginia   NaN    NaN     866.0    21315.0    39582.0   \n",
      "53                    Wisconsin   NaN   25.0    9353.0   118741.0   313917.0   \n",
      "54                      Wyoming   NaN    NaN     776.0    10950.0    19212.0   \n",
      "\n",
      "      deaths                                   \n",
      "month     01   02      03        04        05  \n",
      "0        NaN  NaN    42.0    4044.0   11989.0  \n",
      "1        NaN  NaN     8.0     173.0     211.0  \n",
      "2        0.0  0.0    85.0    4848.0   16313.0  \n",
      "3        NaN  NaN    51.0    1011.0    2614.0  \n",
      "4        0.0  0.0  1113.0   30174.0   82736.0  \n",
      "5        NaN  NaN   340.0   11717.0   29847.0  \n",
      "6        NaN  NaN   283.0   29760.0   85465.0  \n",
      "7        NaN  NaN    31.0    1840.0    6953.0  \n",
      "8        NaN  NaN    41.0    2651.0    9455.0  \n",
      "9        NaN  NaN   489.0   19495.0   49993.0  \n",
      "10       NaN  NaN   702.0   18051.0   41052.0  \n",
      "11       NaN  NaN    11.0     156.0     162.0  \n",
      "12       NaN  NaN     1.0     273.0     457.0  \n",
      "13       NaN  NaN    34.0    1098.0    1938.0  \n",
      "14       0.0  0.0   448.0   32641.0  103901.0  \n",
      "15       NaN  NaN   245.0   14509.0   44307.0  \n",
      "16       NaN  NaN    26.0    1967.0    8666.0  \n",
      "17       NaN  NaN    60.0    2239.0    4838.0  \n",
      "18       NaN  NaN    84.0    3896.0    9106.0  \n",
      "19       NaN  NaN  1139.0   32409.0   63315.0  \n",
      "20       NaN  NaN    14.0     843.0    1833.0  \n",
      "21       NaN  NaN    84.0   13711.0   49309.0  \n",
      "22       NaN  0.0   340.0   42952.0  143856.0  \n",
      "23       NaN  NaN   967.0   59519.0  127237.0  \n",
      "24       NaN  NaN    45.0    3804.0   17809.0  \n",
      "25       NaN  NaN    88.0    3972.0   12944.0  \n",
      "26       NaN  NaN    96.0    5057.0   14883.0  \n",
      "27       NaN  NaN    11.0     279.0     434.0  \n",
      "28       NaN  0.0    13.0     866.0    3135.0  \n",
      "29       NaN  NaN   123.0    4020.0    9017.0  \n",
      "30       NaN  NaN    17.0    1009.0    4128.0  \n",
      "31       NaN  NaN  1214.0  102722.0  262671.0  \n",
      "32       NaN  NaN    16.0    1472.0    6353.0  \n",
      "33       NaN  NaN  7445.0  425222.0  736040.0  \n",
      "34       NaN  NaN    32.0    4804.0   16829.0  \n",
      "35       NaN  NaN     9.0     296.0    1081.0  \n",
      "36       NaN  NaN     0.0      54.0      54.0  \n",
      "37       NaN  NaN   219.0   12517.0   41176.0  \n",
      "38       NaN  NaN   101.0    3691.0    7554.0  \n",
      "39       NaN  0.0   129.0    1829.0    3553.0  \n",
      "40       NaN  NaN   267.0   30598.0  112125.0  \n",
      "41       NaN  NaN    35.0    1450.0    3101.0  \n",
      "42       NaN  NaN    17.0    3473.0   12672.0  \n",
      "43       NaN  NaN   127.0    3284.0    9802.0  \n",
      "44       NaN  NaN    22.0     211.0    1041.0  \n",
      "45       NaN  NaN    60.0    3758.0    7418.0  \n",
      "46       NaN  0.0   269.0   12274.0   33420.0  \n",
      "47       NaN  0.0    19.0     718.0    2034.0  \n",
      "48       NaN  NaN    92.0     958.0    1431.0  \n",
      "49       NaN  NaN     0.0      57.0     141.0  \n",
      "50       NaN  NaN   102.0    7019.0   25244.0  \n",
      "51       0.0  1.0  2377.0   16938.0   26336.0  \n",
      "52       NaN  NaN     3.0     514.0    1653.0  \n",
      "53       NaN  0.0   135.0    5402.0   11621.0  \n",
      "54       NaN  NaN     0.0      82.0     238.0  \n"
     ]
    }
   ],
   "source": [
    "print(monthly_state_case_deaths_pivot)"
   ]
  },
  {
   "cell_type": "code",
   "execution_count": null,
   "metadata": {},
   "outputs": [],
   "source": []
  }
 ],
 "metadata": {
  "kernelspec": {
   "display_name": "Python 3",
   "language": "python",
   "name": "python3"
  },
  "language_info": {
   "codemirror_mode": {
    "name": "ipython",
    "version": 3
   },
   "file_extension": ".py",
   "mimetype": "text/x-python",
   "name": "python",
   "nbconvert_exporter": "python",
   "pygments_lexer": "ipython3",
   "version": "3.7.4"
  }
 },
 "nbformat": 4,
 "nbformat_minor": 2
}
